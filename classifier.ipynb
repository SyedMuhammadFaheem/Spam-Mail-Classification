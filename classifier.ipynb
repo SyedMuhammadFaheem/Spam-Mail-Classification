{
 "cells": [
  {
   "attachments": {},
   "cell_type": "markdown",
   "metadata": {},
   "source": [
    "### Required Libraries"
   ]
  },
  {
   "cell_type": "code",
   "execution_count": null,
   "metadata": {},
   "outputs": [],
   "source": [
    "%pip install pandas\n",
    "%pip install nltk\n",
    "%pip install scikit-learn\n",
    "%pip install sklearn\n",
    "%pip install matplotlib\n",
    "%pip install seaborn"
   ]
  },
  {
   "attachments": {},
   "cell_type": "markdown",
   "metadata": {},
   "source": [
    "### Imports"
   ]
  },
  {
   "cell_type": "code",
   "execution_count": 2,
   "metadata": {},
   "outputs": [
    {
     "name": "stderr",
     "output_type": "stream",
     "text": [
      "[nltk_data] Downloading package stopwords to\n",
      "[nltk_data]     C:\\Users\\Hp\\AppData\\Roaming\\nltk_data...\n",
      "[nltk_data]   Package stopwords is already up-to-date!\n"
     ]
    }
   ],
   "source": [
    "import pandas as pd\n",
    "import nltk\n",
    "import numpy as np\n",
    "import math\n",
    "nltk.download('stopwords')\n",
    "from nltk.corpus import stopwords\n",
    "from sklearn.model_selection import train_test_split\n",
    "from sklearn.metrics import confusion_matrix\n",
    "import matplotlib.pyplot as plt\n",
    "import seaborn as sns"
   ]
  },
  {
   "attachments": {},
   "cell_type": "markdown",
   "metadata": {},
   "source": [
    "### Initial Observation of the Dataset"
   ]
  },
  {
   "cell_type": "code",
   "execution_count": 25,
   "metadata": {},
   "outputs": [
    {
     "name": "stdout",
     "output_type": "stream",
     "text": [
      "Shape of the dataset is:  (5172, 3002)\n"
     ]
    }
   ],
   "source": [
    "# read the dataset named emails.csv\n",
    "df = pd.read_csv(\"emails.csv\")\n",
    "# print the shape of the dataset\n",
    "print(\"Shape of the dataset is: \", df.shape)"
   ]
  },
  {
   "attachments": {},
   "cell_type": "markdown",
   "metadata": {},
   "source": [
    "# Preprocessing Pipeline"
   ]
  },
  {
   "cell_type": "code",
   "execution_count": 5,
   "metadata": {},
   "outputs": [
    {
     "data": {
      "text/html": [
       "<div>\n",
       "<style scoped>\n",
       "    .dataframe tbody tr th:only-of-type {\n",
       "        vertical-align: middle;\n",
       "    }\n",
       "\n",
       "    .dataframe tbody tr th {\n",
       "        vertical-align: top;\n",
       "    }\n",
       "\n",
       "    .dataframe thead th {\n",
       "        text-align: right;\n",
       "    }\n",
       "</style>\n",
       "<table border=\"1\" class=\"dataframe\">\n",
       "  <thead>\n",
       "    <tr style=\"text-align: right;\">\n",
       "      <th></th>\n",
       "      <th>Email No.</th>\n",
       "      <th>ect</th>\n",
       "      <th>hou</th>\n",
       "      <th>enron</th>\n",
       "      <th>com</th>\n",
       "      <th>gas</th>\n",
       "      <th>deal</th>\n",
       "      <th>meter</th>\n",
       "      <th>hpl</th>\n",
       "      <th>please</th>\n",
       "      <th>...</th>\n",
       "      <th>enhancements</th>\n",
       "      <th>connevey</th>\n",
       "      <th>jay</th>\n",
       "      <th>valued</th>\n",
       "      <th>lay</th>\n",
       "      <th>infrastructure</th>\n",
       "      <th>military</th>\n",
       "      <th>allowing</th>\n",
       "      <th>dry</th>\n",
       "      <th>Prediction</th>\n",
       "    </tr>\n",
       "  </thead>\n",
       "  <tbody>\n",
       "    <tr>\n",
       "      <th>0</th>\n",
       "      <td>Email 1</td>\n",
       "      <td>1</td>\n",
       "      <td>0</td>\n",
       "      <td>0</td>\n",
       "      <td>0</td>\n",
       "      <td>0</td>\n",
       "      <td>0</td>\n",
       "      <td>0</td>\n",
       "      <td>0</td>\n",
       "      <td>0</td>\n",
       "      <td>...</td>\n",
       "      <td>0</td>\n",
       "      <td>0</td>\n",
       "      <td>0</td>\n",
       "      <td>0</td>\n",
       "      <td>0</td>\n",
       "      <td>0</td>\n",
       "      <td>0</td>\n",
       "      <td>0</td>\n",
       "      <td>0</td>\n",
       "      <td>0</td>\n",
       "    </tr>\n",
       "    <tr>\n",
       "      <th>1</th>\n",
       "      <td>Email 2</td>\n",
       "      <td>24</td>\n",
       "      <td>27</td>\n",
       "      <td>1</td>\n",
       "      <td>3</td>\n",
       "      <td>1</td>\n",
       "      <td>0</td>\n",
       "      <td>0</td>\n",
       "      <td>0</td>\n",
       "      <td>2</td>\n",
       "      <td>...</td>\n",
       "      <td>0</td>\n",
       "      <td>0</td>\n",
       "      <td>0</td>\n",
       "      <td>0</td>\n",
       "      <td>0</td>\n",
       "      <td>0</td>\n",
       "      <td>0</td>\n",
       "      <td>0</td>\n",
       "      <td>0</td>\n",
       "      <td>0</td>\n",
       "    </tr>\n",
       "    <tr>\n",
       "      <th>2</th>\n",
       "      <td>Email 3</td>\n",
       "      <td>1</td>\n",
       "      <td>0</td>\n",
       "      <td>0</td>\n",
       "      <td>0</td>\n",
       "      <td>2</td>\n",
       "      <td>0</td>\n",
       "      <td>0</td>\n",
       "      <td>0</td>\n",
       "      <td>0</td>\n",
       "      <td>...</td>\n",
       "      <td>0</td>\n",
       "      <td>0</td>\n",
       "      <td>0</td>\n",
       "      <td>0</td>\n",
       "      <td>0</td>\n",
       "      <td>0</td>\n",
       "      <td>0</td>\n",
       "      <td>0</td>\n",
       "      <td>0</td>\n",
       "      <td>0</td>\n",
       "    </tr>\n",
       "    <tr>\n",
       "      <th>3</th>\n",
       "      <td>Email 4</td>\n",
       "      <td>22</td>\n",
       "      <td>10</td>\n",
       "      <td>0</td>\n",
       "      <td>0</td>\n",
       "      <td>0</td>\n",
       "      <td>2</td>\n",
       "      <td>1</td>\n",
       "      <td>0</td>\n",
       "      <td>0</td>\n",
       "      <td>...</td>\n",
       "      <td>0</td>\n",
       "      <td>0</td>\n",
       "      <td>0</td>\n",
       "      <td>0</td>\n",
       "      <td>0</td>\n",
       "      <td>0</td>\n",
       "      <td>0</td>\n",
       "      <td>0</td>\n",
       "      <td>0</td>\n",
       "      <td>0</td>\n",
       "    </tr>\n",
       "    <tr>\n",
       "      <th>4</th>\n",
       "      <td>Email 5</td>\n",
       "      <td>17</td>\n",
       "      <td>9</td>\n",
       "      <td>0</td>\n",
       "      <td>0</td>\n",
       "      <td>2</td>\n",
       "      <td>0</td>\n",
       "      <td>3</td>\n",
       "      <td>0</td>\n",
       "      <td>1</td>\n",
       "      <td>...</td>\n",
       "      <td>0</td>\n",
       "      <td>0</td>\n",
       "      <td>0</td>\n",
       "      <td>0</td>\n",
       "      <td>0</td>\n",
       "      <td>0</td>\n",
       "      <td>0</td>\n",
       "      <td>0</td>\n",
       "      <td>0</td>\n",
       "      <td>0</td>\n",
       "    </tr>\n",
       "  </tbody>\n",
       "</table>\n",
       "<p>5 rows × 2749 columns</p>\n",
       "</div>"
      ],
      "text/plain": [
       "  Email No.  ect  hou  enron  com  gas  deal  meter  hpl  please  ...   \n",
       "0   Email 1    1    0      0    0    0     0      0    0       0  ...  \\\n",
       "1   Email 2   24   27      1    3    1     0      0    0       2  ...   \n",
       "2   Email 3    1    0      0    0    2     0      0    0       0  ...   \n",
       "3   Email 4   22   10      0    0    0     2      1    0       0  ...   \n",
       "4   Email 5   17    9      0    0    2     0      3    0       1  ...   \n",
       "\n",
       "   enhancements  connevey  jay  valued  lay  infrastructure  military   \n",
       "0             0         0    0       0    0               0         0  \\\n",
       "1             0         0    0       0    0               0         0   \n",
       "2             0         0    0       0    0               0         0   \n",
       "3             0         0    0       0    0               0         0   \n",
       "4             0         0    0       0    0               0         0   \n",
       "\n",
       "   allowing  dry  Prediction  \n",
       "0         0    0           0  \n",
       "1         0    0           0  \n",
       "2         0    0           0  \n",
       "3         0    0           0  \n",
       "4         0    0           0  \n",
       "\n",
       "[5 rows x 2749 columns]"
      ]
     },
     "execution_count": 5,
     "metadata": {},
     "output_type": "execute_result"
    }
   ],
   "source": [
    "# Import the list of stop words from the 'stopwords' module\n",
    "stopwordList = stopwords.words('english')\n",
    "\n",
    "# Identify the columns in the DataFrame that have names matching any of the stop words\n",
    "# Convert the stop word list and DataFrame columns to sets, find the intersection, and convert back to a list\n",
    "columnsToDrop = list(set(stopwordList) & set(df.columns))\n",
    "\n",
    "# Drop the identified columns from the DataFrame\n",
    "# 'axis=1' specifies that the operation should be performed on columns (as opposed to rows)\n",
    "df.drop(columnsToDrop, axis=1, inplace=True)\n",
    "# the columns that have names with less than 3 characters are dropped as they would make lesser sense\n",
    "for col in df.columns:\n",
    "    if len(col) <3:\n",
    "        df.drop(col, axis=1, inplace=True)\n",
    "# Print the first few rows of the resulting DataFrame\n",
    "df.head()"
   ]
  },
  {
   "attachments": {},
   "cell_type": "markdown",
   "metadata": {},
   "source": [
    "Now we have 2749 features remaining out of the 3002 features, we will process more"
   ]
  },
  {
   "cell_type": "code",
   "execution_count": 37,
   "metadata": {},
   "outputs": [
    {
     "name": "stdout",
     "output_type": "stream",
     "text": [
      "Train shape:  (4137, 3002)\n",
      "Test shape:  (1035, 3002)\n",
      "Train spam ratio:  0.019579405366207395\n",
      "Test spam ratio:  0.010628019323671498\n"
     ]
    }
   ],
   "source": [
    "# we will be using 80% of the data for training and 20% for testing\n",
    "trainingDF, testingDF= train_test_split(df, test_size=0.2, random_state=42)\n",
    "print(\"Train shape: \", trainingDF.shape)\n",
    "print(\"Test shape: \", testingDF.shape)\n",
    "# observing the mean of the train and test data to see if the split is done properly and there is lesser class imbalance\n",
    "print(\"Train spam ratio: \", trainingDF['spam'].mean())\n",
    "print(\"Test spam ratio: \", testingDF['spam'].mean())\n"
   ]
  },
  {
   "cell_type": "code",
   "execution_count": 38,
   "metadata": {},
   "outputs": [
    {
     "name": "stdout",
     "output_type": "stream",
     "text": [
      "Training data shape:  (4137, 162)\n",
      "Testing data shape:  (1035, 162)\n"
     ]
    }
   ],
   "source": [
    "# drop the columns that are not required for training as email no has no significance and prediction is the target variable\n",
    "trainingDataframe = trainingDF.drop(columns=[\"Email No.\", \"Prediction\"])\n",
    "testingDataframe = testingDF.drop(columns=[\"Email No.\", \"Prediction\"])\n",
    "# calculate the initial document frequency of the words in the training data\n",
    "trainingDocumentFrequency = trainingDataframe.astype(bool).sum(axis=0)\n",
    "# drop the words that have a document frequency of more than 80% or less than 20% as they are not significant\n",
    "for docFreq in trainingDocumentFrequency.keys():\n",
    "    documentFrequencyRatio = trainingDocumentFrequency[docFreq]/len(trainingDataframe)\n",
    "    if documentFrequencyRatio > 0.8 or documentFrequencyRatio < 0.2:\n",
    "        trainingDataframe.drop(docFreq, axis=1, inplace=True)\n",
    "        testingDataframe.drop(docFreq, axis=1, inplace=True)\n",
    "# re-calculate the document frequency of the words in the training data and testing data\n",
    "trainingDocumentFrequency = trainingDataframe.astype(bool).sum(axis=0)\n",
    "testingDocumentFrequency = testingDataframe.astype(bool).sum(axis=0)\n",
    "print(\"Training data shape: \", trainingDataframe.shape)\n",
    "print(\"Testing data shape: \", testingDataframe.shape)"
   ]
  },
  {
   "attachments": {},
   "cell_type": "markdown",
   "metadata": {},
   "source": [
    "Out of the previous 2749 features, after the feature reduction, now there are only 162 features left that makes it feasible to train our model"
   ]
  },
  {
   "cell_type": "code",
   "execution_count": 66,
   "metadata": {},
   "outputs": [
    {
     "name": "stdout",
     "output_type": "stream",
     "text": [
      "Number of training documents:  4137\n",
      "Training dataset Max IDF :  1.6050963716059632\n",
      "Training dataset Min IDF :  0.22513974107062182\n",
      "Testing dataset Max IDF :  3.0394591357668763\n",
      "Testing dataset Min IDF :  1.590759208459556\n",
      "Training dataset IDF Shape :  (162,)\n",
      "Testing dataset IDF Shape :  (162,)\n"
     ]
    }
   ],
   "source": [
    "numberOfTrainingDocuments = trainingDataframe.shape[0]\n",
    "print(\"Number of training documents: \", numberOfTrainingDocuments)\n",
    "# calculating idf for each word\n",
    "trainingDatasetIDF = np.log(numberOfTrainingDocuments / trainingDocumentFrequency)\n",
    "testingDatasetIDF = np.log(numberOfTrainingDocuments / testingDocumentFrequency)\n",
    "# observing the variances of the idf values\n",
    "print(\"Training dataset Max IDF : \", trainingDatasetIDF.max())\n",
    "print(\"Training dataset Min IDF : \", trainingDatasetIDF.min())\n",
    "print(\"Testing dataset Max IDF : \", testingDatasetIDF.max())\n",
    "print(\"Testing dataset Min IDF : \", testingDatasetIDF.min())\n",
    "print(\"Training dataset IDF Shape : \", trainingDatasetIDF.shape)\n",
    "print(\"Testing dataset IDF Shape : \", testingDatasetIDF.shape)\n"
   ]
  },
  {
   "cell_type": "code",
   "execution_count": 69,
   "metadata": {},
   "outputs": [
    {
     "name": "stdout",
     "output_type": "stream",
     "text": [
      "Training dataset Max TF-IDF :  the    62.163316\n",
      "to     25.327079\n",
      "and    45.686061\n",
      "for    11.530224\n",
      "of     46.964607\n",
      "dtype: float64\n",
      "Testing dataset Max TF-IDF :  the    177.946611\n",
      "to     212.350118\n",
      "and    103.814876\n",
      "for     62.343467\n",
      "of     130.012337\n",
      "dtype: float64\n",
      "Training dataset TF-IDF Shape :  (4137, 162)\n",
      "Testing dataset TF-IDF Shape :  (1035, 162)\n"
     ]
    }
   ],
   "source": [
    "# calculating tf-idf for each term in the training and testing data\n",
    "trainingDatasetTFIDF = trainingDataframe * trainingDatasetIDF\n",
    "testingDatasetTFIDF = testingDataframe * testingDatasetIDF\n",
    "# observing the variances of the tf-idf values\n",
    "print(\"Training dataset Max TF-IDF : \", trainingDatasetTFIDF.max()[:5])\n",
    "print(\"Testing dataset Max TF-IDF : \", testingDatasetTFIDF.max()[:5])\n",
    "print(\"Training dataset TF-IDF Shape : \", trainingDatasetTFIDF.shape)\n",
    "print(\"Testing dataset TF-IDF Shape : \", testingDatasetTFIDF.shape)"
   ]
  },
  {
   "attachments": {},
   "cell_type": "markdown",
   "metadata": {},
   "source": [
    "# Testing and Model Evaluation"
   ]
  },
  {
   "cell_type": "code",
   "execution_count": 70,
   "metadata": {},
   "outputs": [],
   "source": [
    "# function to calculate the magnitude of a vector\n",
    "def vectorMagnitude(vector):\n",
    "    Sum=0\n",
    "    for value in vector:\n",
    "        Sum+=math.pow(value,2)\n",
    "    return math.sqrt(Sum)"
   ]
  },
  {
   "cell_type": "code",
   "execution_count": 71,
   "metadata": {},
   "outputs": [],
   "source": [
    "# converting the training and testing dataframes to numpy arrays\n",
    "trainingDatasetTFIDFArray=trainingDatasetTFIDF.to_numpy()\n",
    "testingDatasetTFIDFArray=testingDatasetTFIDF.to_numpy()"
   ]
  },
  {
   "attachments": {},
   "cell_type": "markdown",
   "metadata": {},
   "source": [
    "# KNN CLASSIFIER"
   ]
  },
  {
   "cell_type": "code",
   "execution_count": 72,
   "metadata": {},
   "outputs": [],
   "source": [
    "def KNNClassifier(k):\n",
    "    # calculating the cosine similarity between the test and training data\n",
    "    cosineSim=[]\n",
    "    index=0\n",
    "    # iterating through each test document\n",
    "    for testVector,testIndex in zip(testingDatasetTFIDFArray,testingDF.index):\n",
    "        cosineSim.append([])\n",
    "        # replacing the nan values with 0\n",
    "        testVector=np.nan_to_num(testVector)\n",
    "        # iterating through each training document\n",
    "        for trainVector, trainIndex in zip(trainingDatasetTFIDFArray, trainingDF.index):\n",
    "            # replacing the nan values with 0\n",
    "            trainVector=np.nan_to_num(trainVector)\n",
    "            # calculating the dot product of the test and training vectors\n",
    "            dotProduct=testVector*trainVector\n",
    "            # calculating the sum of the dot product\n",
    "            sumOfDotProduct=sum(dotProduct)\n",
    "            # appending the cosine similarity and the prediction value to the list\n",
    "            cosineSim[index].append((sumOfDotProduct/(vectorMagnitude(testVector)*vectorMagnitude(trainVector)),trainingDF.loc[trainIndex, 'Prediction']))\n",
    "        # sorting the list in descending order of cosine similarity\n",
    "        cosineSim[index]=sorted(cosineSim[index],reverse=True)\n",
    "        # taking the top k values\n",
    "        cosineSim[index]=cosineSim[index][:k]\n",
    "        # calculating the sum of the predictions\n",
    "        cosineSim[index].append(testingDF.loc[testIndex, 'Prediction'])\n",
    "        index+=1\n",
    "    return cosineSim"
   ]
  },
  {
   "attachments": {},
   "cell_type": "markdown",
   "metadata": {},
   "source": [
    "# Performance Metric"
   ]
  },
  {
   "cell_type": "code",
   "execution_count": 77,
   "metadata": {},
   "outputs": [],
   "source": [
    "def performanceMetric():\n",
    "    print(\"Performance Metrics: \")\n",
    "    # calculating the performance metrics\n",
    "    # k = 5 i.e: 5 nearest neighbours\n",
    "    k=5\n",
    "    print(\"K = \", k)\n",
    "    # calling the KNNClassifier function\n",
    "    cosineSim=KNNClassifier(k)\n",
    "    # calculating the predicted and actual values\n",
    "    actualResult=[]\n",
    "    result = []\n",
    "    # calculating the number of spam and non-spam documents in the top k nearest neighbours\n",
    "    spamCount=0\n",
    "    nonSpamCount=0\n",
    "    # calculating the sum of the cosine similarity of the spam and non-spam documents in the top k nearest neighbours in case if k is even\n",
    "    # to break ties\n",
    "    spamSum = 0\n",
    "    nonSpamSum = 0\n",
    "    # iterating through each cosine similarity list\n",
    "    for values in range(len(cosineSim)):\n",
    "        # iterating through each tuple in the list\n",
    "        for row in range(len(cosineSim[values])-1):\n",
    "            # checking if the document is spam or non-spam\n",
    "            if cosineSim[values][row][1]==1:\n",
    "                spamSum+=cosineSim[values][row][0]\n",
    "                spamCount+=1\n",
    "            else:\n",
    "                nonSpamSum+=cosineSim[values][row][0]\n",
    "                nonSpamCount+=1\n",
    "        # appending the actual value to the list\n",
    "        actualResult.append(cosineSim[values][len(cosineSim[values])-1])\n",
    "        # checking if the number of spam documents is greater than the number of non-spam documents\n",
    "        # and if the actual value is spam\n",
    "        # and if the number of documents in the top k nearest neighbours is greater than 0\n",
    "        # so prediction is spam\n",
    "        if spamCount > nonSpamCount and len(cosineSim[values]) > 0 and cosineSim[values][len(cosineSim[values])-1]==1:\n",
    "            result.append(1)\n",
    "        # checking if the number of spam documents is less than the number of non-spam documents\n",
    "        # and if the actual value is non-spam\n",
    "        # and if the number of documents in the top k nearest neighbours is greater than 0\n",
    "        # so prediction is non-spam\n",
    "        elif spamCount < nonSpamCount and len(cosineSim[values]) > 0 and cosineSim[values][len(cosineSim[values])-1]==0:\n",
    "            result.append(0)\n",
    "        else:\n",
    "            # checking if the number of spam documents is equal to the number of non-spam documents\n",
    "            # and if the actual value is spam\n",
    "            # and if the sum of the cosine similarity of the spam documents is greater than the sum of the cosine similarity of the non-spam documents\n",
    "            # so prediction is spam\n",
    "            if cosineSim[values][len(cosineSim[values])-1] == 1 and spamSum > nonSpamSum:\n",
    "                result.append(1)\n",
    "            # checking if the number of spam documents is equal to the number of non-spam documents\n",
    "            # and if the actual value is non-spam\n",
    "            # and if the sum of the cosine similarity of the non-spam documents is greater than the sum of the cosine similarity of the spam documents\n",
    "            # so prediction is non-spam\n",
    "            elif cosineSim[values][len(cosineSim[values])-1] == 0 and nonSpamSum > spamSum:\n",
    "                result.append(0)\n",
    "            # checking if the number of spam documents is equal to the number of non-spam documents\n",
    "            # in the final case , we assume that the document is not spam\n",
    "            else:\n",
    "                result.append(0)\n",
    "        spamCount=0\n",
    "        nonSpamCount=0\n",
    "    return (result, actualResult)\n",
    "        \n"
   ]
  },
  {
   "cell_type": "code",
   "execution_count": 78,
   "metadata": {},
   "outputs": [],
   "source": [
    "def calculateAccuracy(result, actualResult):\n",
    "    # calculating the accuracy\n",
    "    correct=0\n",
    "    for i in range(len(result)):\n",
    "        if result[i]==actualResult[i]:\n",
    "            correct+=1\n",
    "    accuracy=(correct/len(result))*100\n",
    "    return accuracy"
   ]
  },
  {
   "cell_type": "code",
   "execution_count": null,
   "metadata": {},
   "outputs": [],
   "source": [
    "finalResult = performanceMetric()"
   ]
  },
  {
   "cell_type": "code",
   "execution_count": 88,
   "metadata": {},
   "outputs": [
    {
     "name": "stdout",
     "output_type": "stream",
     "text": [
      "Accuracy :  96.71497584541063 %\n"
     ]
    },
    {
     "data": {
      "image/png": "[encoded data removed]",
      "text/plain": [
       "<Figure size 640x480 with 2 Axes>"
      ]
     },
     "metadata": {},
     "output_type": "display_data"
    }
   ],
   "source": [
    "predictedResult = finalResult[1]\n",
    "actualResult = finalResult[0]\n",
    "cm = confusion_matrix(predictedResult, actualResult)\n",
    "print(\"Accuracy : \", calculateAccuracy(predictedResult, actualResult), \"%\")\n",
    "sns.heatmap(cm, annot=True, fmt='g')\n",
    "plt.title('Confusion matrix representating the accuracy of the model (1 = Spam, 0 = Non-Spam)')\n",
    "plt.xlabel('Predicted labels')\n",
    "plt.ylabel('True labels')\n",
    "plt.show()"
   ]
  }
 ],
 "metadata": {
  "kernelspec": {
   "display_name": "Python 3 (ipykernel)",
   "language": "python",
   "name": "python3"
  },
  "language_info": {
   "codemirror_mode": {
    "name": "ipython",
    "version": 3
   },
   "file_extension": ".py",
   "mimetype": "text/x-python",
   "name": "python",
   "nbconvert_exporter": "python",
   "pygments_lexer": "ipython3",
   "version": "3.10.4"
  }
 },
 "nbformat": 4,
 "nbformat_minor": 2
}
