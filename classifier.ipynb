{
 "cells": [
  {
   "cell_type": "code",
   "execution_count": 2,
   "metadata": {},
   "outputs": [
    {
     "name": "stdout",
     "output_type": "stream",
     "text": [
      "Requirement already satisfied: pandas in c:\\python\\lib\\site-packages (2.0.0)\n",
      "Requirement already satisfied: pytz>=2020.1 in c:\\python\\lib\\site-packages (from pandas) (2023.3)\n",
      "Requirement already satisfied: tzdata>=2022.1 in c:\\python\\lib\\site-packages (from pandas) (2023.3)\n",
      "Requirement already satisfied: numpy>=1.21.0 in c:\\python\\lib\\site-packages (from pandas) (1.24.2)\n",
      "Requirement already satisfied: python-dateutil>=2.8.2 in c:\\users\\hp\\appdata\\roaming\\python\\python310\\site-packages (from pandas) (2.8.2)\n",
      "Requirement already satisfied: six>=1.5 in c:\\users\\hp\\appdata\\roaming\\python\\python310\\site-packages (from python-dateutil>=2.8.2->pandas) (1.16.0)\n",
      "Note: you may need to restart the kernel to use updated packages.\n"
     ]
    },
    {
     "name": "stderr",
     "output_type": "stream",
     "text": [
      "\n",
      "[notice] A new release of pip available: 22.3.1 -> 23.1\n",
      "[notice] To update, run: python.exe -m pip install --upgrade pip\n"
     ]
    },
    {
     "name": "stdout",
     "output_type": "stream",
     "text": [
      "Note: you may need to restart the kernel to use updated packages.\n"
     ]
    },
    {
     "name": "stderr",
     "output_type": "stream",
     "text": [
      "\n",
      "[notice] A new release of pip available: 22.3.1 -> 23.1\n",
      "[notice] To update, run: python.exe -m pip install --upgrade pip\n"
     ]
    },
    {
     "name": "stdout",
     "output_type": "stream",
     "text": [
      "Requirement already satisfied: nltk in c:\\python\\lib\\site-packages (3.8.1)\n",
      "Requirement already satisfied: tqdm in c:\\python\\lib\\site-packages (from nltk) (4.65.0)\n",
      "Requirement already satisfied: click in c:\\python\\lib\\site-packages (from nltk) (8.1.3)\n",
      "Requirement already satisfied: joblib in c:\\python\\lib\\site-packages (from nltk) (1.2.0)\n",
      "Requirement already satisfied: regex>=2021.8.3 in c:\\python\\lib\\site-packages (from nltk) (2023.3.23)\n",
      "Requirement already satisfied: colorama in c:\\users\\hp\\appdata\\roaming\\python\\python310\\site-packages (from click->nltk) (0.4.6)\n",
      "Requirement already satisfied: scikit-learn in c:\\python\\lib\\site-packages (1.2.2)\n",
      "Requirement already satisfied: numpy>=1.17.3 in c:\\python\\lib\\site-packages (from scikit-learn) (1.24.2)\n",
      "Requirement already satisfied: joblib>=1.1.1 in c:\\python\\lib\\site-packages (from scikit-learn) (1.2.0)\n",
      "Requirement already satisfied: scipy>=1.3.2 in c:\\python\\lib\\site-packages (from scikit-learn) (1.10.1)\n",
      "Requirement already satisfied: threadpoolctl>=2.0.0 in c:\\python\\lib\\site-packages (from scikit-learn) (3.1.0)\n",
      "Note: you may need to restart the kernel to use updated packages.\n"
     ]
    },
    {
     "name": "stderr",
     "output_type": "stream",
     "text": [
      "\n",
      "[notice] A new release of pip available: 22.3.1 -> 23.1\n",
      "[notice] To update, run: python.exe -m pip install --upgrade pip\n"
     ]
    },
    {
     "name": "stdout",
     "output_type": "stream",
     "text": [
      "Collecting sklearn\n",
      "  Using cached sklearn-0.0.post4.tar.gz (3.6 kB)\n",
      "  Preparing metadata (setup.py): started\n",
      "  Preparing metadata (setup.py): finished with status 'error'\n",
      "Note: you may need to restart the kernel to use updated packages.\n"
     ]
    },
    {
     "name": "stderr",
     "output_type": "stream",
     "text": [
      "  error: subprocess-exited-with-error\n",
      "  \n",
      "  × python setup.py egg_info did not run successfully.\n",
      "  │ exit code: 1\n",
      "  ╰─> [8 lines of output]\n",
      "      Traceback (most recent call last):\n",
      "        File \"<string>\", line 2, in <module>\n",
      "        File \"<pip-setuptools-caller>\", line 34, in <module>\n",
      "        File \"C:\\Users\\Hp\\AppData\\Local\\Temp\\pip-install-2nzp3a93\\sklearn_40ccd8695a3c4d1a88f51e041a5ce9aa\\setup.py\", line 10, in <module>\n",
      "          LONG_DESCRIPTION = f.read()\n",
      "        File \"c:\\Python\\lib\\encodings\\cp1252.py\", line 23, in decode\n",
      "          return codecs.charmap_decode(input,self.errors,decoding_table)[0]\n",
      "      UnicodeDecodeError: 'charmap' codec can't decode byte 0x8f in position 7: character maps to <undefined>\n",
      "      [end of output]\n",
      "  \n",
      "  note: This error originates from a subprocess, and is likely not a problem with pip.\n",
      "error: metadata-generation-failed\n",
      "\n",
      "× Encountered error while generating package metadata.\n",
      "╰─> See above for output.\n",
      "\n",
      "note: This is an issue with the package mentioned above, not pip.\n",
      "hint: See above for details.\n",
      "\n",
      "[notice] A new release of pip available: 22.3.1 -> 23.1\n",
      "[notice] To update, run: python.exe -m pip install --upgrade pip\n"
     ]
    }
   ],
   "source": [
    "%pip install pandas\n",
    "%pip install nltk\n",
    "%pip install scikit-learn\n",
    "%pip install sklearn"
   ]
  },
  {
   "cell_type": "code",
   "execution_count": 3,
   "metadata": {},
   "outputs": [
    {
     "name": "stderr",
     "output_type": "stream",
     "text": [
      "[nltk_data] Downloading package stopwords to\n",
      "[nltk_data]     C:\\Users\\Hp\\AppData\\Roaming\\nltk_data...\n",
      "[nltk_data]   Package stopwords is already up-to-date!\n"
     ]
    }
   ],
   "source": [
    "import pandas as pd\n",
    "import nltk\n",
    "import numpy as np\n",
    "import math\n",
    "nltk.download('stopwords')\n",
    "from nltk.corpus import stopwords\n",
    "from sklearn.model_selection import train_test_split\n",
    "from sklearn.feature_extraction.text import CountVectorizer"
   ]
  },
  {
   "cell_type": "markdown",
   "metadata": {},
   "source": [
    "## Initially Viewing the Data"
   ]
  },
  {
   "cell_type": "code",
   "execution_count": 4,
   "metadata": {},
   "outputs": [
    {
     "name": "stdout",
     "output_type": "stream",
     "text": [
      "(5172, 3002)\n"
     ]
    }
   ],
   "source": [
    "df = pd.read_csv(\"emails.csv\")\n",
    "df.head()\n",
    "print(df.shape)"
   ]
  },
  {
   "cell_type": "markdown",
   "metadata": {},
   "source": [
    "## Preprocessing Pipeline"
   ]
  },
  {
   "cell_type": "code",
   "execution_count": 5,
   "metadata": {},
   "outputs": [
    {
     "data": {
      "text/html": [
       "<div>\n",
       "<style scoped>\n",
       "    .dataframe tbody tr th:only-of-type {\n",
       "        vertical-align: middle;\n",
       "    }\n",
       "\n",
       "    .dataframe tbody tr th {\n",
       "        vertical-align: top;\n",
       "    }\n",
       "\n",
       "    .dataframe thead th {\n",
       "        text-align: right;\n",
       "    }\n",
       "</style>\n",
       "<table border=\"1\" class=\"dataframe\">\n",
       "  <thead>\n",
       "    <tr style=\"text-align: right;\">\n",
       "      <th></th>\n",
       "      <th>Email No.</th>\n",
       "      <th>ect</th>\n",
       "      <th>hou</th>\n",
       "      <th>enron</th>\n",
       "      <th>com</th>\n",
       "      <th>gas</th>\n",
       "      <th>deal</th>\n",
       "      <th>meter</th>\n",
       "      <th>hpl</th>\n",
       "      <th>please</th>\n",
       "      <th>...</th>\n",
       "      <th>connevey</th>\n",
       "      <th>jay</th>\n",
       "      <th>valued</th>\n",
       "      <th>lay</th>\n",
       "      <th>infrastructure</th>\n",
       "      <th>military</th>\n",
       "      <th>allowing</th>\n",
       "      <th>ff</th>\n",
       "      <th>dry</th>\n",
       "      <th>Prediction</th>\n",
       "    </tr>\n",
       "  </thead>\n",
       "  <tbody>\n",
       "    <tr>\n",
       "      <th>0</th>\n",
       "      <td>Email 1</td>\n",
       "      <td>1</td>\n",
       "      <td>0</td>\n",
       "      <td>0</td>\n",
       "      <td>0</td>\n",
       "      <td>0</td>\n",
       "      <td>0</td>\n",
       "      <td>0</td>\n",
       "      <td>0</td>\n",
       "      <td>0</td>\n",
       "      <td>...</td>\n",
       "      <td>0</td>\n",
       "      <td>0</td>\n",
       "      <td>0</td>\n",
       "      <td>0</td>\n",
       "      <td>0</td>\n",
       "      <td>0</td>\n",
       "      <td>0</td>\n",
       "      <td>0</td>\n",
       "      <td>0</td>\n",
       "      <td>0</td>\n",
       "    </tr>\n",
       "    <tr>\n",
       "      <th>1</th>\n",
       "      <td>Email 2</td>\n",
       "      <td>24</td>\n",
       "      <td>27</td>\n",
       "      <td>1</td>\n",
       "      <td>3</td>\n",
       "      <td>1</td>\n",
       "      <td>0</td>\n",
       "      <td>0</td>\n",
       "      <td>0</td>\n",
       "      <td>2</td>\n",
       "      <td>...</td>\n",
       "      <td>0</td>\n",
       "      <td>0</td>\n",
       "      <td>0</td>\n",
       "      <td>0</td>\n",
       "      <td>0</td>\n",
       "      <td>0</td>\n",
       "      <td>0</td>\n",
       "      <td>1</td>\n",
       "      <td>0</td>\n",
       "      <td>0</td>\n",
       "    </tr>\n",
       "    <tr>\n",
       "      <th>2</th>\n",
       "      <td>Email 3</td>\n",
       "      <td>1</td>\n",
       "      <td>0</td>\n",
       "      <td>0</td>\n",
       "      <td>0</td>\n",
       "      <td>2</td>\n",
       "      <td>0</td>\n",
       "      <td>0</td>\n",
       "      <td>0</td>\n",
       "      <td>0</td>\n",
       "      <td>...</td>\n",
       "      <td>0</td>\n",
       "      <td>0</td>\n",
       "      <td>0</td>\n",
       "      <td>0</td>\n",
       "      <td>0</td>\n",
       "      <td>0</td>\n",
       "      <td>0</td>\n",
       "      <td>0</td>\n",
       "      <td>0</td>\n",
       "      <td>0</td>\n",
       "    </tr>\n",
       "    <tr>\n",
       "      <th>3</th>\n",
       "      <td>Email 4</td>\n",
       "      <td>22</td>\n",
       "      <td>10</td>\n",
       "      <td>0</td>\n",
       "      <td>0</td>\n",
       "      <td>0</td>\n",
       "      <td>2</td>\n",
       "      <td>1</td>\n",
       "      <td>0</td>\n",
       "      <td>0</td>\n",
       "      <td>...</td>\n",
       "      <td>0</td>\n",
       "      <td>0</td>\n",
       "      <td>0</td>\n",
       "      <td>0</td>\n",
       "      <td>0</td>\n",
       "      <td>0</td>\n",
       "      <td>0</td>\n",
       "      <td>0</td>\n",
       "      <td>0</td>\n",
       "      <td>0</td>\n",
       "    </tr>\n",
       "    <tr>\n",
       "      <th>4</th>\n",
       "      <td>Email 5</td>\n",
       "      <td>17</td>\n",
       "      <td>9</td>\n",
       "      <td>0</td>\n",
       "      <td>0</td>\n",
       "      <td>2</td>\n",
       "      <td>0</td>\n",
       "      <td>3</td>\n",
       "      <td>0</td>\n",
       "      <td>1</td>\n",
       "      <td>...</td>\n",
       "      <td>0</td>\n",
       "      <td>0</td>\n",
       "      <td>0</td>\n",
       "      <td>0</td>\n",
       "      <td>0</td>\n",
       "      <td>0</td>\n",
       "      <td>0</td>\n",
       "      <td>1</td>\n",
       "      <td>0</td>\n",
       "      <td>0</td>\n",
       "    </tr>\n",
       "  </tbody>\n",
       "</table>\n",
       "<p>5 rows × 2868 columns</p>\n",
       "</div>"
      ],
      "text/plain": [
       "  Email No.  ect  hou  enron  com  gas  deal  meter  hpl  please  ...   \n",
       "0   Email 1    1    0      0    0    0     0      0    0       0  ...  \\\n",
       "1   Email 2   24   27      1    3    1     0      0    0       2  ...   \n",
       "2   Email 3    1    0      0    0    2     0      0    0       0  ...   \n",
       "3   Email 4   22   10      0    0    0     2      1    0       0  ...   \n",
       "4   Email 5   17    9      0    0    2     0      3    0       1  ...   \n",
       "\n",
       "   connevey  jay  valued  lay  infrastructure  military  allowing  ff  dry   \n",
       "0         0    0       0    0               0         0         0   0    0  \\\n",
       "1         0    0       0    0               0         0         0   1    0   \n",
       "2         0    0       0    0               0         0         0   0    0   \n",
       "3         0    0       0    0               0         0         0   0    0   \n",
       "4         0    0       0    0               0         0         0   1    0   \n",
       "\n",
       "   Prediction  \n",
       "0           0  \n",
       "1           0  \n",
       "2           0  \n",
       "3           0  \n",
       "4           0  \n",
       "\n",
       "[5 rows x 2868 columns]"
      ]
     },
     "execution_count": 5,
     "metadata": {},
     "output_type": "execute_result"
    }
   ],
   "source": [
    "# Import the list of stop words from the 'stopwords' module\n",
    "stopwordList = stopwords.words('english')\n",
    "\n",
    "# Identify the columns in the DataFrame that have names matching any of the stop words\n",
    "# Convert the stop word list and DataFrame columns to sets, find the intersection, and convert back to a list\n",
    "columnsToDrop = list(set(stopwordList) & set(df.columns))\n",
    "\n",
    "# Drop the identified columns from the DataFrame\n",
    "# 'axis=1' specifies that the operation should be performed on columns (as opposed to rows)\n",
    "df = df.drop(columnsToDrop, axis=1)\n",
    "\n",
    "# Print the first few rows of the resulting DataFrame\n",
    "df.head()"
   ]
  },
  {
   "cell_type": "code",
   "execution_count": 6,
   "metadata": {},
   "outputs": [
    {
     "name": "stdout",
     "output_type": "stream",
     "text": [
      "Train shape:  (4137, 2868)\n",
      "Test shape:  (1035, 2868)\n",
      "Train spam ratio:  0.019579405366207395\n",
      "Test spam ratio:  0.010628019323671498\n",
      "       Email No.  ect  hou  enron  com  gas  deal  meter  hpl  please  ...   \n",
      "3164  Email 3165    2    2      0    3    0     0      0    0       0  ...  \\\n",
      "2067  Email 2068    1    0      0    0    0     0      0    3       0  ...   \n",
      "4717  Email 4718    4    4      0    6    0     0      0    0       0  ...   \n",
      "2505  Email 2506    1    0      0    0    1     0      1    0       0  ...   \n",
      "2268  Email 2269    3    1      0    1    0     0      0    0       0  ...   \n",
      "\n",
      "      connevey  jay  valued  lay  infrastructure  military  allowing  ff  dry   \n",
      "3164         0    0       0    0               0         0         0   1    0  \\\n",
      "2067         0    0       0    0               0         0         0   0    0   \n",
      "4717         0    0       0    0               0         0         0   3    0   \n",
      "2505         0    0       0    0               0         0         0   0    0   \n",
      "2268         0    0       0    1               0         0         0   1    0   \n",
      "\n",
      "      Prediction  \n",
      "3164           1  \n",
      "2067           0  \n",
      "4717           0  \n",
      "2505           0  \n",
      "2268           0  \n",
      "\n",
      "[5 rows x 2868 columns]\n",
      "       Email No.  ect  hou  enron  com  gas  deal  meter  hpl  please  ...   \n",
      "1566  Email 1567    1    0      0    0    0     0      1    0       0  ...  \\\n",
      "1988  Email 1989   66   33     15    0    5     2     17    0       3  ...   \n",
      "1235  Email 1236    3    0      0    4    0     0      1    0       0  ...   \n",
      "3276  Email 3277    1    0      0    0    0     0      0    3       0  ...   \n",
      "3438  Email 3439    2    1      0    0    1     0      4    0       2  ...   \n",
      "\n",
      "      connevey  jay  valued  lay  infrastructure  military  allowing  ff  dry   \n",
      "1566         0    0       0    0               0         0         0   0    0  \\\n",
      "1988         0    0       0    0               0         0         0   0    0   \n",
      "1235         0    1       0    1               0         0         0   5    0   \n",
      "3276         0    0       0    0               0         0         0   0    0   \n",
      "3438         0    0       0    0               0         0         0   4    0   \n",
      "\n",
      "      Prediction  \n",
      "1566           0  \n",
      "1988           0  \n",
      "1235           1  \n",
      "3276           0  \n",
      "3438           0  \n",
      "\n",
      "[5 rows x 2868 columns]\n"
     ]
    }
   ],
   "source": [
    "train_df, test_df = train_test_split(df, test_size=0.2, random_state=42)\n",
    "print(\"Train shape: \", train_df.shape)\n",
    "print(\"Test shape: \", test_df.shape)\n",
    "print(\"Train spam ratio: \", train_df['spam'].mean())\n",
    "print(\"Test spam ratio: \", test_df['spam'].mean())\n",
    "print(train_df.head())\n",
    "print(test_df.head())"
   ]
  },
  {
   "cell_type": "code",
   "execution_count": 7,
   "metadata": {},
   "outputs": [
    {
     "name": "stdout",
     "output_type": "stream",
     "text": [
      "ect    4137\n",
      "j      4137\n",
      "u      4137\n",
      "b      4137\n",
      "ct     4137\n",
      "e      4137\n",
      "c      4137\n",
      "r      4099\n",
      "n      4093\n",
      "l      4072\n",
      "dtype: int64\n",
      "2866\n",
      "ect    1035\n",
      "j      1035\n",
      "c      1035\n",
      "ct     1035\n",
      "u      1035\n",
      "e      1035\n",
      "b      1035\n",
      "r      1025\n",
      "n      1025\n",
      "l      1020\n",
      "dtype: int64\n",
      "2866\n"
     ]
    }
   ],
   "source": [
    "new_train_df = train_df.drop(columns=[\"Email No.\", \"Prediction\"])\n",
    "new_test_df = test_df.drop(columns=[\"Email No.\", \"Prediction\"])\n",
    "doc_freq_train = new_train_df.astype(bool).sum(axis=0)\n",
    "print(doc_freq_train.sort_values(ascending=False).head(10))\n",
    "print(len(doc_freq_train))\n",
    "doc_freq_test = new_test_df.astype(bool).sum(axis=0)\n",
    "print(doc_freq_test.sort_values(ascending=False).head(10))\n",
    "print(len(doc_freq_test))"
   ]
  },
  {
   "cell_type": "code",
   "execution_count": 8,
   "metadata": {},
   "outputs": [
    {
     "name": "stdout",
     "output_type": "stream",
     "text": [
      "ect               0.000000\n",
      "hou               0.938780\n",
      "enron             1.241825\n",
      "com               0.909545\n",
      "gas               1.447342\n",
      "                    ...   \n",
      "infrastructure    5.929831\n",
      "military          5.762777\n",
      "allowing          5.555137\n",
      "ff                1.045653\n",
      "dry               5.108850\n",
      "Length: 2866, dtype: float64\n",
      "ect               1.385569\n",
      "hou               2.351375\n",
      "enron             2.682279\n",
      "com               2.277993\n",
      "gas               2.826468\n",
      "                    ...   \n",
      "infrastructure    7.634579\n",
      "military          6.941432\n",
      "allowing          7.229114\n",
      "ff                2.341274\n",
      "dry               6.381816\n",
      "Length: 2866, dtype: float64\n"
     ]
    }
   ],
   "source": [
    "number_doc_train = new_train_df.shape[0]\n",
    "# calculating idf for each word\n",
    "idf_train = np.log(number_doc_train / doc_freq_train)\n",
    "idf_test = np.log(number_doc_train / doc_freq_test)\n",
    "print(idf_train)\n",
    "print(idf_test)"
   ]
  },
  {
   "cell_type": "code",
   "execution_count": 9,
   "metadata": {},
   "outputs": [
    {
     "name": "stdout",
     "output_type": "stream",
     "text": [
      "      ect      hou     enron       com       gas      deal     meter   \n",
      "3164  0.0  1.87756  0.000000  2.728636  0.000000  0.000000  0.000000  \\\n",
      "2067  0.0  0.00000  0.000000  0.000000  0.000000  0.000000  0.000000   \n",
      "4717  0.0  3.75512  0.000000  5.457272  0.000000  0.000000  0.000000   \n",
      "2505  0.0  0.00000  0.000000  0.000000  1.447342  0.000000  1.796849   \n",
      "2268  0.0  0.93878  0.000000  0.909545  0.000000  0.000000  0.000000   \n",
      "...   ...      ...       ...       ...       ...       ...       ...   \n",
      "4426  0.0  0.00000  2.483649  1.819091  0.000000  0.000000  0.000000   \n",
      "466   0.0  0.00000  2.483649  0.000000  1.447342  1.468111  0.000000   \n",
      "3092  0.0  0.00000  2.483649  0.000000  1.447342  0.000000  0.000000   \n",
      "3772  0.0  0.00000  0.000000  2.728636  0.000000  0.000000  0.000000   \n",
      "860   0.0  0.00000  0.000000  0.000000  0.000000  0.000000  0.000000   \n",
      "\n",
      "           hpl    please    e  ...  enhancements  connevey  jay  valued   \n",
      "3164  0.000000  0.000000  0.0  ...           0.0       0.0  0.0     0.0  \\\n",
      "2067  4.323584  0.000000  0.0  ...           0.0       0.0  0.0     0.0   \n",
      "4717  0.000000  0.000000  0.0  ...           0.0       0.0  0.0     0.0   \n",
      "2505  0.000000  0.000000  0.0  ...           0.0       0.0  0.0     0.0   \n",
      "2268  0.000000  0.000000  0.0  ...           0.0       0.0  0.0     0.0   \n",
      "...        ...       ...  ...  ...           ...       ...  ...     ...   \n",
      "4426  1.441195  0.000000  0.0  ...           0.0       0.0  0.0     0.0   \n",
      "466   0.000000  0.000000  0.0  ...           0.0       0.0  0.0     0.0   \n",
      "3092  4.323584  0.000000  0.0  ...           0.0       0.0  0.0     0.0   \n",
      "3772  0.000000  2.007791  0.0  ...           0.0       0.0  0.0     0.0   \n",
      "860   0.000000  0.000000  0.0  ...           0.0       0.0  0.0     0.0   \n",
      "\n",
      "           lay  infrastructure  military  allowing        ff  dry  \n",
      "3164  0.000000             0.0       0.0       0.0  1.045653  0.0  \n",
      "2067  0.000000             0.0       0.0       0.0  0.000000  0.0  \n",
      "4717  0.000000             0.0       0.0       0.0  3.136958  0.0  \n",
      "2505  0.000000             0.0       0.0       0.0  0.000000  0.0  \n",
      "2268  2.929563             0.0       0.0       0.0  1.045653  0.0  \n",
      "...        ...             ...       ...       ...       ...  ...  \n",
      "4426  0.000000             0.0       0.0       0.0  0.000000  0.0  \n",
      "466   0.000000             0.0       0.0       0.0  0.000000  0.0  \n",
      "3092  0.000000             0.0       0.0       0.0  0.000000  0.0  \n",
      "3772  0.000000             0.0       0.0       0.0  3.136958  0.0  \n",
      "860   0.000000             0.0       0.0       0.0  0.000000  0.0  \n",
      "\n",
      "[4137 rows x 2866 columns]\n",
      "            ect        hou      enron        com        gas       deal   \n",
      "1566   1.385569   0.000000   0.000000   0.000000   0.000000   0.000000  \\\n",
      "1988  91.447584  77.595383  40.234189   0.000000  14.132340   5.661116   \n",
      "1235   4.156708   0.000000   0.000000   9.111971   0.000000   0.000000   \n",
      "3276   1.385569   0.000000   0.000000   0.000000   0.000000   0.000000   \n",
      "3438   2.771139   2.351375   0.000000   0.000000   2.826468   0.000000   \n",
      "...         ...        ...        ...        ...        ...        ...   \n",
      "1175   4.156708   0.000000   0.000000   0.000000   0.000000   0.000000   \n",
      "2594  15.241264  16.459627   8.046838  13.667956   2.826468   0.000000   \n",
      "3377   1.385569   0.000000   5.364559   0.000000   0.000000   0.000000   \n",
      "5065   1.385569   0.000000   0.000000   0.000000   0.000000   0.000000   \n",
      "2142  36.024806  37.622004  13.411396   0.000000   0.000000  19.813906   \n",
      "\n",
      "          meter        hpl    please           e  ...  enhancements  connevey   \n",
      "1566   3.085979   0.000000  0.000000   20.783542  ...           0.0       0.0  \\\n",
      "1988  52.461646   0.000000  7.077056  426.755394  ...           0.0       0.0   \n",
      "1235   3.085979   0.000000  0.000000  414.285269  ...           0.0       0.0   \n",
      "3276   0.000000   8.418796  0.000000    6.927847  ...           0.0       0.0   \n",
      "3438  12.343917   0.000000  4.718037  224.462253  ...           0.0       0.0   \n",
      "...         ...        ...       ...         ...  ...           ...       ...   \n",
      "1175   0.000000  14.031326  2.359019   63.736195  ...           0.0       0.0   \n",
      "2594   0.000000   0.000000  4.718037  421.213116  ...           0.0       0.0   \n",
      "3377   0.000000   2.806265  0.000000    5.542278  ...           0.0       0.0   \n",
      "5065   0.000000   0.000000  0.000000   19.397972  ...           0.0       0.0   \n",
      "2142  27.773812   5.612530  2.359019  308.981990  ...           0.0       0.0   \n",
      "\n",
      "           jay  valued       lay  infrastructure  military  allowing   \n",
      "1566  0.000000     0.0  0.000000             0.0       0.0       0.0  \\\n",
      "1988  0.000000     0.0  0.000000             0.0       0.0       0.0   \n",
      "1235  6.381816     0.0  4.338742             0.0       0.0       0.0   \n",
      "3276  0.000000     0.0  0.000000             0.0       0.0       0.0   \n",
      "3438  0.000000     0.0  0.000000             0.0       0.0       0.0   \n",
      "...        ...     ...       ...             ...       ...       ...   \n",
      "1175  0.000000     0.0  0.000000             0.0       0.0       0.0   \n",
      "2594  0.000000     0.0  0.000000             0.0       0.0       0.0   \n",
      "3377  0.000000     0.0  0.000000             0.0       0.0       0.0   \n",
      "5065  0.000000     0.0  4.338742             0.0       0.0       0.0   \n",
      "2142  0.000000     0.0  0.000000             0.0       0.0       0.0   \n",
      "\n",
      "             ff  dry  \n",
      "1566   0.000000  0.0  \n",
      "1988   0.000000  0.0  \n",
      "1235  11.706371  0.0  \n",
      "3276   0.000000  0.0  \n",
      "3438   9.365097  0.0  \n",
      "...         ...  ...  \n",
      "1175   0.000000  0.0  \n",
      "2594   7.023822  0.0  \n",
      "3377   0.000000  0.0  \n",
      "5065   0.000000  0.0  \n",
      "2142   0.000000  0.0  \n",
      "\n",
      "[1035 rows x 2866 columns]\n"
     ]
    }
   ],
   "source": [
    "# calculating tf-idf for each word\n",
    "tf_idf_train = new_train_df * idf_train\n",
    "tf_idf_test = new_test_df * idf_test\n",
    "print(tf_idf_train)\n",
    "print(tf_idf_test)"
   ]
  },
  {
   "cell_type": "code",
   "execution_count": 10,
   "metadata": {},
   "outputs": [],
   "source": [
    "def vectorMagnitude(vector):\n",
    "    Sum=0\n",
    "    for value in vector:\n",
    "        Sum+=math.pow(value,2)\n",
    "    return math.sqrt(Sum)"
   ]
  },
  {
   "cell_type": "code",
   "execution_count": null,
   "metadata": {},
   "outputs": [],
   "source": [
    "tf_idf_train_array=tf_idf_train.to_numpy()\n",
    "print(len(tf_idf_train_array[0]))\n",
    "tf_idf_test_array=tf_idf_test.to_numpy()\n",
    "print(len(tf_idf_test_array))"
   ]
  },
  {
   "cell_type": "code",
   "execution_count": 17,
   "metadata": {},
   "outputs": [],
   "source": [
    "def KNNClassifier(k):\n",
    "    cosineSim=[]\n",
    "    index=0\n",
    "    newVector=tf_idf_test_array[0]*tf_idf_train_array[0]\n",
    "    newVector=np.nan_to_num(newVector.data)\n",
    "    for testVector,testIndex in zip(tf_idf_test_array,test_df.index):\n",
    "        cosineSim.append([])\n",
    "        testVector=np.nan_to_num(testVector)\n",
    "        for trainVector, trainIndex in zip(tf_idf_train_array, train_df.index):\n",
    "            trainVector=np.nan_to_num(trainVector)\n",
    "            dotProduct=testVector*trainVector\n",
    "            sumOfDotProduct=sum(dotProduct)\n",
    "            cosineSim[index].append((sumOfDotProduct/(vectorMagnitude(testVector)*vectorMagnitude(trainVector)),train_df.loc[trainIndex, 'Prediction']))\n",
    "        cosineSim[index]=sorted(cosineSim[index],reverse=True)\n",
    "        cosineSim[index]=cosineSim[index][:k]\n",
    "        cosineSim[index].append(test_df.loc[testIndex, 'Prediction'])\n",
    "        print(cosineSim[index])\n",
    "        index+=1\n",
    "    return cosineSim"
   ]
  },
  {
   "cell_type": "code",
   "execution_count": 23,
   "metadata": {},
   "outputs": [],
   "source": [
    "def performanceMetric():\n",
    "    for k in range(2,11):\n",
    "        cosineSim=KNNClassifier(k)\n",
    "        correct=0\n",
    "        spamCount=0\n",
    "        nonSpamCount=0\n",
    "        for values in range(len(cosineSim)):\n",
    "            for row in range(len(cosineSim[values])-1):\n",
    "                if cosineSim[values][row][1]==1:\n",
    "                    spamCount+=1\n",
    "                else:\n",
    "                    nonSpamCount+=1\n",
    "            if spamCount > nonSpamCount and cosineSim[values][len(cosineSim[values])-1][1]==1:\n",
    "                correct+=1\n",
    "            elif spamCount < nonSpamCount and cosineSim[values][len(cosineSim[values])-1][1]==0:\n",
    "                correct+=1\n",
    "            else:\n",
    "                if cosineSim[values][len(cosineSim[values])-1][1] == 1:\n",
    "                    correct += 1\n",
    "            spamCount=0\n",
    "            nonSpamCount=0\n",
    "        print(\"k=\",k)\n",
    "        print(\"Accuracy=\",correct/len(test_df))\n",
    "        \n"
   ]
  },
  {
   "cell_type": "code",
   "execution_count": 24,
   "metadata": {},
   "outputs": [
    {
     "name": "stderr",
     "output_type": "stream",
     "text": [
      "C:\\Users\\Hp\\AppData\\Local\\Temp\\ipykernel_17340\\770724222.py:13: RuntimeWarning: invalid value encountered in scalar divide\n",
      "  cosineSim[index].append((sumOfDotProduct/(vectorMagnitude(testVector)*vectorMagnitude(trainVector)),train_df.loc[trainIndex, 'Prediction']))\n"
     ]
    },
    {
     "name": "stdout",
     "output_type": "stream",
     "text": [
      "[(0.47111341244343513, 0), (0.3888507227205867, 0), 0]\n",
      "[(0.4051717028455861, 0), (0.4032659216568999, 0), 0]\n"
     ]
    },
    {
     "ename": "KeyboardInterrupt",
     "evalue": "",
     "output_type": "error",
     "traceback": [
      "\u001b[1;31m---------------------------------------------------------------------------\u001b[0m",
      "\u001b[1;31mKeyboardInterrupt\u001b[0m                         Traceback (most recent call last)",
      "Cell \u001b[1;32mIn[24], line 1\u001b[0m\n\u001b[1;32m----> 1\u001b[0m performanceMetric()\n",
      "Cell \u001b[1;32mIn[23], line 3\u001b[0m, in \u001b[0;36mperformanceMetric\u001b[1;34m()\u001b[0m\n\u001b[0;32m      1\u001b[0m \u001b[39mdef\u001b[39;00m \u001b[39mperformanceMetric\u001b[39m():\n\u001b[0;32m      2\u001b[0m     \u001b[39mfor\u001b[39;00m k \u001b[39min\u001b[39;00m \u001b[39mrange\u001b[39m(\u001b[39m2\u001b[39m,\u001b[39m11\u001b[39m):\n\u001b[1;32m----> 3\u001b[0m         cosineSim\u001b[39m=\u001b[39mKNNClassifier(k)\n\u001b[0;32m      4\u001b[0m         correct\u001b[39m=\u001b[39m\u001b[39m0\u001b[39m\n\u001b[0;32m      5\u001b[0m         spamCount\u001b[39m=\u001b[39m\u001b[39m0\u001b[39m\n",
      "Cell \u001b[1;32mIn[17], line 10\u001b[0m, in \u001b[0;36mKNNClassifier\u001b[1;34m(k)\u001b[0m\n\u001b[0;32m      8\u001b[0m testVector\u001b[39m=\u001b[39mnp\u001b[39m.\u001b[39mnan_to_num(testVector)\n\u001b[0;32m      9\u001b[0m \u001b[39mfor\u001b[39;00m trainVector, trainIndex \u001b[39min\u001b[39;00m \u001b[39mzip\u001b[39m(tf_idf_train_array, train_df\u001b[39m.\u001b[39mindex):\n\u001b[1;32m---> 10\u001b[0m     trainVector\u001b[39m=\u001b[39mnp\u001b[39m.\u001b[39;49mnan_to_num(trainVector)\n\u001b[0;32m     11\u001b[0m     dotProduct\u001b[39m=\u001b[39mtestVector\u001b[39m*\u001b[39mtrainVector\n\u001b[0;32m     12\u001b[0m     sumOfDotProduct\u001b[39m=\u001b[39m\u001b[39msum\u001b[39m(dotProduct)\n",
      "File \u001b[1;32m<__array_function__ internals>:200\u001b[0m, in \u001b[0;36mnan_to_num\u001b[1;34m(*args, **kwargs)\u001b[0m\n",
      "File \u001b[1;32mc:\\Python\\lib\\site-packages\\numpy\\lib\\type_check.py:498\u001b[0m, in \u001b[0;36mnan_to_num\u001b[1;34m(x, copy, nan, posinf, neginf)\u001b[0m\n\u001b[0;32m    404\u001b[0m \u001b[39m@array_function_dispatch\u001b[39m(_nan_to_num_dispatcher)\n\u001b[0;32m    405\u001b[0m \u001b[39mdef\u001b[39;00m \u001b[39mnan_to_num\u001b[39m(x, copy\u001b[39m=\u001b[39m\u001b[39mTrue\u001b[39;00m, nan\u001b[39m=\u001b[39m\u001b[39m0.0\u001b[39m, posinf\u001b[39m=\u001b[39m\u001b[39mNone\u001b[39;00m, neginf\u001b[39m=\u001b[39m\u001b[39mNone\u001b[39;00m):\n\u001b[0;32m    406\u001b[0m \u001b[39m    \u001b[39m\u001b[39m\"\"\"\u001b[39;00m\n\u001b[0;32m    407\u001b[0m \u001b[39m    Replace NaN with zero and infinity with large finite numbers (default\u001b[39;00m\n\u001b[0;32m    408\u001b[0m \u001b[39m    behaviour) or with the numbers defined by the user using the `nan`,\u001b[39;00m\n\u001b[1;32m   (...)\u001b[0m\n\u001b[0;32m    496\u001b[0m \u001b[39m    array([222222.+111111.j, 111111.     +0.j, 111111.+222222.j])\u001b[39;00m\n\u001b[0;32m    497\u001b[0m \u001b[39m    \"\"\"\u001b[39;00m\n\u001b[1;32m--> 498\u001b[0m     x \u001b[39m=\u001b[39m _nx\u001b[39m.\u001b[39;49marray(x, subok\u001b[39m=\u001b[39;49m\u001b[39mTrue\u001b[39;49;00m, copy\u001b[39m=\u001b[39;49mcopy)\n\u001b[0;32m    499\u001b[0m     xtype \u001b[39m=\u001b[39m x\u001b[39m.\u001b[39mdtype\u001b[39m.\u001b[39mtype\n\u001b[0;32m    501\u001b[0m     isscalar \u001b[39m=\u001b[39m (x\u001b[39m.\u001b[39mndim \u001b[39m==\u001b[39m \u001b[39m0\u001b[39m)\n",
      "\u001b[1;31mKeyboardInterrupt\u001b[0m: "
     ]
    }
   ],
   "source": [
    "performanceMetric()"
   ]
  }
 ],
 "metadata": {
  "kernelspec": {
   "display_name": "Python 3 (ipykernel)",
   "language": "python",
   "name": "python3"
  },
  "language_info": {
   "codemirror_mode": {
    "name": "ipython",
    "version": 3
   },
   "file_extension": ".py",
   "mimetype": "text/x-python",
   "name": "python",
   "nbconvert_exporter": "python",
   "pygments_lexer": "ipython3",
   "version": "3.10.4"
  }
 },
 "nbformat": 4,
 "nbformat_minor": 2
}
