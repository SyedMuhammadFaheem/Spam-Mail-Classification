{
 "cells": [
  {
   "cell_type": "code",
   "execution_count": null,
   "metadata": {},
   "outputs": [],
   "source": [
    "%pip install pandas\n",
    "%pip install nltk\n",
    "%pip install scikit-learn\n",
    "%pip install sklearn"
   ]
  },
  {
   "cell_type": "code",
   "execution_count": 1,
   "metadata": {},
   "outputs": [
    {
     "name": "stderr",
     "output_type": "stream",
     "text": [
      "[nltk_data] Downloading package stopwords to\n",
      "[nltk_data]     C:\\Users\\Hp\\AppData\\Roaming\\nltk_data...\n",
      "[nltk_data]   Package stopwords is already up-to-date!\n"
     ]
    }
   ],
   "source": [
    "import pandas as pd\n",
    "import nltk\n",
    "import numpy as np\n",
    "nltk.download('stopwords')\n",
    "from nltk.corpus import stopwords\n",
    "from sklearn.model_selection import train_test_split\n",
    "from sklearn.feature_extraction.text import CountVectorizer"
   ]
  },
  {
   "attachments": {},
   "cell_type": "markdown",
   "metadata": {},
   "source": [
    "## Initially Viewing the Data"
   ]
  },
  {
   "cell_type": "code",
   "execution_count": 9,
   "metadata": {},
   "outputs": [
    {
     "name": "stdout",
     "output_type": "stream",
     "text": [
      "(5172, 3002)\n",
      "ect\n",
      "1      2587\n",
      "2       875\n",
      "3       351\n",
      "4       229\n",
      "5       161\n",
      "       ... \n",
      "344       1\n",
      "81        1\n",
      "101       1\n",
      "194       1\n",
      "85        1\n",
      "Name: count, Length: 90, dtype: int64\n"
     ]
    }
   ],
   "source": [
    "df = pd.read_csv(\"emails.csv\")\n",
    "df.head()\n",
    "print(df.shape)"
   ]
  },
  {
   "attachments": {},
   "cell_type": "markdown",
   "metadata": {},
   "source": [
    "## Preprocessing Pipeline"
   ]
  },
  {
   "cell_type": "code",
   "execution_count": 3,
   "metadata": {},
   "outputs": [
    {
     "data": {
      "text/html": [
       "<div>\n",
       "<style scoped>\n",
       "    .dataframe tbody tr th:only-of-type {\n",
       "        vertical-align: middle;\n",
       "    }\n",
       "\n",
       "    .dataframe tbody tr th {\n",
       "        vertical-align: top;\n",
       "    }\n",
       "\n",
       "    .dataframe thead th {\n",
       "        text-align: right;\n",
       "    }\n",
       "</style>\n",
       "<table border=\"1\" class=\"dataframe\">\n",
       "  <thead>\n",
       "    <tr style=\"text-align: right;\">\n",
       "      <th></th>\n",
       "      <th>Email No.</th>\n",
       "      <th>ect</th>\n",
       "      <th>hou</th>\n",
       "      <th>enron</th>\n",
       "      <th>com</th>\n",
       "      <th>gas</th>\n",
       "      <th>deal</th>\n",
       "      <th>meter</th>\n",
       "      <th>hpl</th>\n",
       "      <th>please</th>\n",
       "      <th>...</th>\n",
       "      <th>connevey</th>\n",
       "      <th>jay</th>\n",
       "      <th>valued</th>\n",
       "      <th>lay</th>\n",
       "      <th>infrastructure</th>\n",
       "      <th>military</th>\n",
       "      <th>allowing</th>\n",
       "      <th>ff</th>\n",
       "      <th>dry</th>\n",
       "      <th>Prediction</th>\n",
       "    </tr>\n",
       "  </thead>\n",
       "  <tbody>\n",
       "    <tr>\n",
       "      <th>0</th>\n",
       "      <td>Email 1</td>\n",
       "      <td>1</td>\n",
       "      <td>0</td>\n",
       "      <td>0</td>\n",
       "      <td>0</td>\n",
       "      <td>0</td>\n",
       "      <td>0</td>\n",
       "      <td>0</td>\n",
       "      <td>0</td>\n",
       "      <td>0</td>\n",
       "      <td>...</td>\n",
       "      <td>0</td>\n",
       "      <td>0</td>\n",
       "      <td>0</td>\n",
       "      <td>0</td>\n",
       "      <td>0</td>\n",
       "      <td>0</td>\n",
       "      <td>0</td>\n",
       "      <td>0</td>\n",
       "      <td>0</td>\n",
       "      <td>0</td>\n",
       "    </tr>\n",
       "    <tr>\n",
       "      <th>1</th>\n",
       "      <td>Email 2</td>\n",
       "      <td>24</td>\n",
       "      <td>27</td>\n",
       "      <td>1</td>\n",
       "      <td>3</td>\n",
       "      <td>1</td>\n",
       "      <td>0</td>\n",
       "      <td>0</td>\n",
       "      <td>0</td>\n",
       "      <td>2</td>\n",
       "      <td>...</td>\n",
       "      <td>0</td>\n",
       "      <td>0</td>\n",
       "      <td>0</td>\n",
       "      <td>0</td>\n",
       "      <td>0</td>\n",
       "      <td>0</td>\n",
       "      <td>0</td>\n",
       "      <td>1</td>\n",
       "      <td>0</td>\n",
       "      <td>0</td>\n",
       "    </tr>\n",
       "    <tr>\n",
       "      <th>2</th>\n",
       "      <td>Email 3</td>\n",
       "      <td>1</td>\n",
       "      <td>0</td>\n",
       "      <td>0</td>\n",
       "      <td>0</td>\n",
       "      <td>2</td>\n",
       "      <td>0</td>\n",
       "      <td>0</td>\n",
       "      <td>0</td>\n",
       "      <td>0</td>\n",
       "      <td>...</td>\n",
       "      <td>0</td>\n",
       "      <td>0</td>\n",
       "      <td>0</td>\n",
       "      <td>0</td>\n",
       "      <td>0</td>\n",
       "      <td>0</td>\n",
       "      <td>0</td>\n",
       "      <td>0</td>\n",
       "      <td>0</td>\n",
       "      <td>0</td>\n",
       "    </tr>\n",
       "    <tr>\n",
       "      <th>3</th>\n",
       "      <td>Email 4</td>\n",
       "      <td>22</td>\n",
       "      <td>10</td>\n",
       "      <td>0</td>\n",
       "      <td>0</td>\n",
       "      <td>0</td>\n",
       "      <td>2</td>\n",
       "      <td>1</td>\n",
       "      <td>0</td>\n",
       "      <td>0</td>\n",
       "      <td>...</td>\n",
       "      <td>0</td>\n",
       "      <td>0</td>\n",
       "      <td>0</td>\n",
       "      <td>0</td>\n",
       "      <td>0</td>\n",
       "      <td>0</td>\n",
       "      <td>0</td>\n",
       "      <td>0</td>\n",
       "      <td>0</td>\n",
       "      <td>0</td>\n",
       "    </tr>\n",
       "    <tr>\n",
       "      <th>4</th>\n",
       "      <td>Email 5</td>\n",
       "      <td>17</td>\n",
       "      <td>9</td>\n",
       "      <td>0</td>\n",
       "      <td>0</td>\n",
       "      <td>2</td>\n",
       "      <td>0</td>\n",
       "      <td>3</td>\n",
       "      <td>0</td>\n",
       "      <td>1</td>\n",
       "      <td>...</td>\n",
       "      <td>0</td>\n",
       "      <td>0</td>\n",
       "      <td>0</td>\n",
       "      <td>0</td>\n",
       "      <td>0</td>\n",
       "      <td>0</td>\n",
       "      <td>0</td>\n",
       "      <td>1</td>\n",
       "      <td>0</td>\n",
       "      <td>0</td>\n",
       "    </tr>\n",
       "  </tbody>\n",
       "</table>\n",
       "<p>5 rows × 2868 columns</p>\n",
       "</div>"
      ],
      "text/plain": [
       "  Email No.  ect  hou  enron  com  gas  deal  meter  hpl  please  ...   \n",
       "0   Email 1    1    0      0    0    0     0      0    0       0  ...  \\\n",
       "1   Email 2   24   27      1    3    1     0      0    0       2  ...   \n",
       "2   Email 3    1    0      0    0    2     0      0    0       0  ...   \n",
       "3   Email 4   22   10      0    0    0     2      1    0       0  ...   \n",
       "4   Email 5   17    9      0    0    2     0      3    0       1  ...   \n",
       "\n",
       "   connevey  jay  valued  lay  infrastructure  military  allowing  ff  dry   \n",
       "0         0    0       0    0               0         0         0   0    0  \\\n",
       "1         0    0       0    0               0         0         0   1    0   \n",
       "2         0    0       0    0               0         0         0   0    0   \n",
       "3         0    0       0    0               0         0         0   0    0   \n",
       "4         0    0       0    0               0         0         0   1    0   \n",
       "\n",
       "   Prediction  \n",
       "0           0  \n",
       "1           0  \n",
       "2           0  \n",
       "3           0  \n",
       "4           0  \n",
       "\n",
       "[5 rows x 2868 columns]"
      ]
     },
     "execution_count": 3,
     "metadata": {},
     "output_type": "execute_result"
    }
   ],
   "source": [
    "# Import the list of stop words from the 'stopwords' module\n",
    "stopwordList = stopwords.words('english')\n",
    "\n",
    "# Identify the columns in the DataFrame that have names matching any of the stop words\n",
    "# Convert the stop word list and DataFrame columns to sets, find the intersection, and convert back to a list\n",
    "columnsToDrop = list(set(stopwordList) & set(df.columns))\n",
    "\n",
    "# Drop the identified columns from the DataFrame\n",
    "# 'axis=1' specifies that the operation should be performed on columns (as opposed to rows)\n",
    "df = df.drop(columnsToDrop, axis=1)\n",
    "\n",
    "# Print the first few rows of the resulting DataFrame\n",
    "df.head()"
   ]
  },
  {
   "cell_type": "code",
   "execution_count": 4,
   "metadata": {},
   "outputs": [
    {
     "name": "stdout",
     "output_type": "stream",
     "text": [
      "Train shape:  (4137, 2868)\n",
      "Test shape:  (1035, 2868)\n",
      "Train spam ratio:  0.019579405366207395\n",
      "Test spam ratio:  0.010628019323671498\n",
      "       Email No.  ect  hou  enron  com  gas  deal  meter  hpl  please  ...   \n",
      "3164  Email 3165    2    2      0    3    0     0      0    0       0  ...  \\\n",
      "2067  Email 2068    1    0      0    0    0     0      0    3       0  ...   \n",
      "4717  Email 4718    4    4      0    6    0     0      0    0       0  ...   \n",
      "2505  Email 2506    1    0      0    0    1     0      1    0       0  ...   \n",
      "2268  Email 2269    3    1      0    1    0     0      0    0       0  ...   \n",
      "\n",
      "      connevey  jay  valued  lay  infrastructure  military  allowing  ff  dry   \n",
      "3164         0    0       0    0               0         0         0   1    0  \\\n",
      "2067         0    0       0    0               0         0         0   0    0   \n",
      "4717         0    0       0    0               0         0         0   3    0   \n",
      "2505         0    0       0    0               0         0         0   0    0   \n",
      "2268         0    0       0    1               0         0         0   1    0   \n",
      "\n",
      "      Prediction  \n",
      "3164           1  \n",
      "2067           0  \n",
      "4717           0  \n",
      "2505           0  \n",
      "2268           0  \n",
      "\n",
      "[5 rows x 2868 columns]\n",
      "       Email No.  ect  hou  enron  com  gas  deal  meter  hpl  please  ...   \n",
      "1566  Email 1567    1    0      0    0    0     0      1    0       0  ...  \\\n",
      "1988  Email 1989   66   33     15    0    5     2     17    0       3  ...   \n",
      "1235  Email 1236    3    0      0    4    0     0      1    0       0  ...   \n",
      "3276  Email 3277    1    0      0    0    0     0      0    3       0  ...   \n",
      "3438  Email 3439    2    1      0    0    1     0      4    0       2  ...   \n",
      "\n",
      "      connevey  jay  valued  lay  infrastructure  military  allowing  ff  dry   \n",
      "1566         0    0       0    0               0         0         0   0    0  \\\n",
      "1988         0    0       0    0               0         0         0   0    0   \n",
      "1235         0    1       0    1               0         0         0   5    0   \n",
      "3276         0    0       0    0               0         0         0   0    0   \n",
      "3438         0    0       0    0               0         0         0   4    0   \n",
      "\n",
      "      Prediction  \n",
      "1566           0  \n",
      "1988           0  \n",
      "1235           1  \n",
      "3276           0  \n",
      "3438           0  \n",
      "\n",
      "[5 rows x 2868 columns]\n"
     ]
    }
   ],
   "source": [
    "train_df, test_df = train_test_split(df, test_size=0.2, random_state=42)\n",
    "print(\"Train shape: \", train_df.shape)\n",
    "print(\"Test shape: \", test_df.shape)\n",
    "print(\"Train spam ratio: \", train_df['spam'].mean())\n",
    "print(\"Test spam ratio: \", test_df['spam'].mean())\n",
    "print(train_df.head())\n",
    "print(test_df.head())"
   ]
  },
  {
   "cell_type": "code",
   "execution_count": 14,
   "metadata": {},
   "outputs": [
    {
     "name": "stdout",
     "output_type": "stream",
     "text": [
      "ect    4137\n",
      "j      4137\n",
      "u      4137\n",
      "b      4137\n",
      "ct     4137\n",
      "e      4137\n",
      "c      4137\n",
      "r      4099\n",
      "n      4093\n",
      "l      4072\n",
      "dtype: int64\n",
      "2866\n"
     ]
    }
   ],
   "source": [
    "new_train_df = train_df.drop(columns=[\"Email No.\", \"Prediction\"])\n",
    "new_test_df = test_df.drop(columns=[\"Email No.\", \"Prediction\"])\n",
    "doc_freq = new_train_df.astype(bool).sum(axis=0)\n",
    "print(doc_freq.sort_values(ascending=False).head(10))\n",
    "print(len(doc_freq))"
   ]
  },
  {
   "cell_type": "code",
   "execution_count": 21,
   "metadata": {},
   "outputs": [
    {
     "name": "stdout",
     "output_type": "stream",
     "text": [
      "4137\n",
      "ect               0.000000\n",
      "hou               0.938780\n",
      "enron             1.241825\n",
      "com               0.909545\n",
      "gas               1.447342\n",
      "                    ...   \n",
      "infrastructure    5.929831\n",
      "military          5.762777\n",
      "allowing          5.555137\n",
      "ff                1.045653\n",
      "dry               5.108850\n",
      "Length: 2866, dtype: float64\n"
     ]
    }
   ],
   "source": [
    "number_doc = new_train_df.shape[0]\n",
    "print(number_doc)\n",
    "# calculating idf for each word\n",
    "idf_train = np.log(number_doc / doc_freq)\n",
    "print(idf_train)\n",
    "\n"
   ]
  },
  {
   "cell_type": "code",
   "execution_count": 25,
   "metadata": {},
   "outputs": [
    {
     "name": "stdout",
     "output_type": "stream",
     "text": [
      "siuuuuuuuu\n",
      "ect                 0.000000\n",
      "hou               146.449691\n",
      "enron             181.306407\n",
      "com               660.329920\n",
      "gas                41.972920\n",
      "                     ...    \n",
      "infrastructure     17.789493\n",
      "military           23.051107\n",
      "allowing           16.665412\n",
      "ff                119.204386\n",
      "dry                20.435401\n",
      "Length: 2866, dtype: float64\n"
     ]
    }
   ],
   "source": [
    "# calculating tf-idf for each word\n",
    "tf_idf_train = new_train_df * idf_train\n",
    "print(tf_idf_train)"
   ]
  }
 ],
 "metadata": {
  "kernelspec": {
   "display_name": "Python 3",
   "language": "python",
   "name": "python3"
  },
  "language_info": {
   "codemirror_mode": {
    "name": "ipython",
    "version": 3
   },
   "file_extension": ".py",
   "mimetype": "text/x-python",
   "name": "python",
   "nbconvert_exporter": "python",
   "pygments_lexer": "ipython3",
   "version": "3.10.4"
  },
  "orig_nbformat": 4
 },
 "nbformat": 4,
 "nbformat_minor": 2
}
